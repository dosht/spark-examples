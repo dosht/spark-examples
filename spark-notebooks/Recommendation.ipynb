{
 "cells": [
  {
   "cell_type": "markdown",
   "metadata": {
    "collapsed": true
   },
   "source": [
    "# Get Books Recommendations Based on Book Ratings by other users\n",
    "## Load booksratings data"
   ]
  },
  {
   "cell_type": "code",
   "execution_count": 1,
   "metadata": {
    "collapsed": false
   },
   "outputs": [],
   "source": [
    "val rawdata = sc.textFile(\"/docker/datasets/Book-Crossing/BX-Book-Ratings-clean.csv\")"
   ]
  },
  {
   "cell_type": "code",
   "execution_count": 2,
   "metadata": {
    "collapsed": false
   },
   "outputs": [],
   "source": [
    "import org.apache.spark.mllib.recommendation._\n",
    "\n",
    "val ratings = rawdata.map(_.split(\",\")).flatMap {\n",
    "    case Array(userId, bookId, rating) => List(Rating(userId.##, bookId.##, rating.toDouble))\n",
    "    case _ => Nil\n",
    "}.cache()"
   ]
  },
  {
   "cell_type": "markdown",
   "metadata": {},
   "source": [
    "## Train Alternate Least Square Model"
   ]
  },
  {
   "cell_type": "code",
   "execution_count": 3,
   "metadata": {
    "collapsed": false
   },
   "outputs": [],
   "source": [
    "val rank = 10\n",
    "val numIterations = 10\n",
    "val model = ALS.train(ratings, rank, numIterations, 0.01)"
   ]
  },
  {
   "cell_type": "markdown",
   "metadata": {},
   "source": [
    "## Evaluation"
   ]
  },
  {
   "cell_type": "code",
   "execution_count": 6,
   "metadata": {
    "collapsed": false
   },
   "outputs": [],
   "source": [
    "val usersBooks = ratings.map {\n",
    "    case Rating(user, book, rate) => (user, book)\n",
    "}\n",
    "\n",
    "val predictions = model.predict(usersBooks).map {\n",
    "    case Rating(user, book, rate) => ((user, book), rate)\n",
    "}\n",
    "\n",
    "val ratesAndPreds = ratings.map {\n",
    "    case Rating(user, book, rate) => ((user, book), rate)\n",
    "}"
   ]
  },
  {
   "cell_type": "code",
   "execution_count": 7,
   "metadata": {
    "collapsed": false
   },
   "outputs": [],
   "source": [
    "import scala.math.pow\n",
    "val MSE = (predictions join ratesAndPreds).values.map {\n",
    "    case (r1, r2) => pow(r1 - r2, 2)\n",
    "}.mean"
   ]
  },
  {
   "cell_type": "code",
   "execution_count": 8,
   "metadata": {
    "collapsed": false
   },
   "outputs": [
    {
     "data": {
      "text/plain": [
       "1.543133789501017"
      ]
     },
     "execution_count": 8,
     "metadata": {},
     "output_type": "execute_result"
    }
   ],
   "source": [
    "MSE"
   ]
  },
  {
   "cell_type": "markdown",
   "metadata": {},
   "source": [
    "## Recomend 10 Books for some user using SparkSQL and save to Cassandra"
   ]
  },
  {
   "cell_type": "code",
   "execution_count": 13,
   "metadata": {
    "collapsed": false
   },
   "outputs": [
    {
     "name": "stdout",
     "output_type": "stream",
     "text": [
      "+-----------+\n",
      "|    product|\n",
      "+-----------+\n",
      "| 1492767647|\n",
      "| 1189115084|\n",
      "| -573959997|\n",
      "| 1064138883|\n",
      "|-1974867320|\n",
      "|  567161828|\n",
      "|-1632106272|\n",
      "|-1413874720|\n",
      "| -513295492|\n",
      "|-1517405952|\n",
      "| 1871641768|\n",
      "| 2012697882|\n",
      "| -706641786|\n",
      "|  624131577|\n",
      "| -231294235|\n",
      "|-1885107065|\n",
      "|-1067239038|\n",
      "| 1190855202|\n",
      "|  869624709|\n",
      "| -747635905|\n",
      "+-----------+\n",
      "\n"
     ]
    }
   ],
   "source": [
    "sqlContext.sql(\"SELECT product FROM RECOMENDATIONS WHERE user = 1454240742 ORDER BY rating DESC\").show"
   ]
  },
  {
   "cell_type": "markdown",
   "metadata": {},
   "source": [
    "# Get Recommentations by user"
   ]
  },
  {
   "cell_type": "code",
   "execution_count": null,
   "metadata": {
    "collapsed": false
   },
   "outputs": [],
   "source": []
  },
  {
   "cell_type": "markdown",
   "metadata": {},
   "source": [
    "# Recomend 10 Books for some user using DataFrames"
   ]
  },
  {
   "cell_type": "code",
   "execution_count": 8,
   "metadata": {
    "collapsed": false
   },
   "outputs": [],
   "source": [
    "val sqlContext = new org.apache.spark.sql.SQLContext(sc)\n",
    "import sqlContext._\n",
    "import sqlContext.implicits._\n",
    "\n",
    "val df = model.predict(usersBooks).toDF"
   ]
  },
  {
   "cell_type": "code",
   "execution_count": 9,
   "metadata": {
    "collapsed": false
   },
   "outputs": [
    {
     "name": "stdout",
     "output_type": "stream",
     "text": [
      "+----------+-----------+--------------------+\n",
      "|      user|    product|              rating|\n",
      "+----------+-----------+--------------------+\n",
      "|1454240742|-1632106272|    8.07874748460219|\n",
      "|1481950097|-1283513920|   3.998921658529917|\n",
      "|  52455867|-1283513920|   8.118608673296709|\n",
      "|1480216506| -738125816|  10.142597387607847|\n",
      "|  48764605| -738125816|  10.232640840531621|\n",
      "|1451555651|-1991032848|                 0.0|\n",
      "|1453347846|  924811832|                 0.0|\n",
      "|1481170720| -306767624|   0.648859710056537|\n",
      "|  50491673| -306767624|  1.8322300157627662|\n",
      "|  52516593| -306767624|  1.2722275412129598|\n",
      "|1456236587| -306767624|   6.749916587500888|\n",
      "|1453257636| -306767624| -0.6042261857159872|\n",
      "|1479327556| -306767624| 0.07799550700979596|\n",
      "|  50665645| -306767624|   4.891981331691452|\n",
      "|1450725253| -306767624|-0.00148863673925...|\n",
      "|  50577326| -306767624|   7.501813695557477|\n",
      "|1453320942| -306767624|   5.999499735821199|\n",
      "|1448843639| -306767624| 0.18292499069853196|\n",
      "|1481116067|  -44503720|                 0.0|\n",
      "|1452393576|   78940008|0.007765042050082327|\n",
      "+----------+-----------+--------------------+\n",
      "\n"
     ]
    }
   ],
   "source": [
    "df.show()"
   ]
  },
  {
   "cell_type": "code",
   "execution_count": 10,
   "metadata": {
    "collapsed": false
   },
   "outputs": [
    {
     "data": {
      "text/plain": [
       "Name: Compile Error\n",
       "Message: <console>:41: error: overloaded method value filter with alternatives:\n",
       "  (conditionExpr: String)org.apache.spark.sql.DataFrame <and>\n",
       "  (condition: org.apache.spark.sql.Column)org.apache.spark.sql.DataFrame\n",
       " cannot be applied to (Boolean)\n",
       "              df.filter(df(\"user\") == 1454240742)\n",
       "                 ^\n",
       "StackTrace: "
      ]
     },
     "execution_count": 10,
     "metadata": {},
     "output_type": "execute_result"
    }
   ],
   "source": [
    "df.filter(df(\"user\") == 1454240742)"
   ]
  },
  {
   "cell_type": "code",
   "execution_count": 12,
   "metadata": {
    "collapsed": false
   },
   "outputs": [
    {
     "name": "stdout",
     "output_type": "stream",
     "text": [
      "+-----------+\n",
      "|    product|\n",
      "+-----------+\n",
      "| 1492767647|\n",
      "| 1189115084|\n",
      "| -573959997|\n",
      "| 1064138883|\n",
      "|-1974867320|\n",
      "|  567161828|\n",
      "|-1632106272|\n",
      "|-1413874720|\n",
      "| -513295492|\n",
      "|-1517405952|\n",
      "| 1871641768|\n",
      "| 2012697882|\n",
      "| -706641786|\n",
      "|  624131577|\n",
      "| -231294235|\n",
      "|-1885107065|\n",
      "|-1067239038|\n",
      "| 1190855202|\n",
      "|  869624709|\n",
      "| -747635905|\n",
      "+-----------+\n",
      "\n"
     ]
    },
    {
     "data": {
      "text/plain": [
       "Name: Syntax Error.\n",
       "Message: \n",
       "StackTrace: "
      ]
     },
     "execution_count": 12,
     "metadata": {},
     "output_type": "execute_result"
    }
   ],
   "source": [
    "df.registerTempTable(\"RECOMENDATIONS\")\n",
    "sqlContext.sql(\"SELECT product FROM RECOMENDATIONS WHERE user = 1454240742 ORDER BY rating DESC\").show\n",
    "//     map(_.getInt(0)).take(10)"
   ]
  }
 ],
 "metadata": {
  "kernelspec": {
   "display_name": "Scala 2.10.4 (Spark 1.5.2)",
   "language": "scala",
   "name": "scala"
  },
  "language_info": {
   "name": "scala"
  }
 },
 "nbformat": 4,
 "nbformat_minor": 0
}
