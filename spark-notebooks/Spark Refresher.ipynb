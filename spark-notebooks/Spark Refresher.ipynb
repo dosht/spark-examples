{
 "cells": [
  {
   "cell_type": "code",
   "execution_count": 1,
   "metadata": {
    "collapsed": false
   },
   "outputs": [
    {
     "name": "stdout",
     "output_type": "stream",
     "text": [
      "Types will be printed.\n",
      ":: loading settings :: url = jar:file:/usr/local/spark-1.5.2-bin-hadoop2.6/lib/spark-assembly-1.5.2-hadoop2.6.0.jar!/org/apache/ivy/core/settings/ivysettings.xml\n",
      ":: resolving dependencies :: com.ibm.spark#spark-kernel;working [not transitive]\n",
      "\tconfs: [default]\n",
      "\tfound edu.stanford.nlp#stanford-corenlp;3.5.2 in central\n",
      "downloading https://repo1.maven.org/maven2/edu/stanford/nlp/stanford-corenlp/3.5.2/stanford-corenlp-3.5.2.jar ...\n",
      "\t[SUCCESSFUL ] edu.stanford.nlp#stanford-corenlp;3.5.2!stanford-corenlp.jar (1116ms)\n",
      ":: resolution report :: resolve 1496ms :: artifacts dl 1119ms\n",
      "\t:: modules in use:\n",
      "\tedu.stanford.nlp#stanford-corenlp;3.5.2 from central in [default]\n",
      "\t---------------------------------------------------------------------\n",
      "\t|                  |            modules            ||   artifacts   |\n",
      "\t|       conf       | number| search|dwnlded|evicted|| number|dwnlded|\n",
      "\t---------------------------------------------------------------------\n",
      "\t|      default     |   1   |   1   |   1   |   0   ||   1   |   1   |\n",
      "\t---------------------------------------------------------------------\n",
      ":: retrieving :: com.ibm.spark#spark-kernel\n",
      "\tconfs: [default]\n",
      "\t1 artifacts copied, 0 already retrieved (6561kB/14ms)\n",
      "Starting download from file:/docker/lib/ch06-lsa-1.0.2-jar-with-dependencies.jar\n",
      "Finished download of ch06-lsa-1.0.2-jar-with-dependencies.jar\n"
     ]
    }
   ],
   "source": [
    "%showtypes on\n",
    "%AddDeps edu.stanford.nlp stanford-corenlp 3.5.2"
   ]
  },
  {
   "cell_type": "code",
   "execution_count": null,
   "metadata": {
    "collapsed": true
   },
   "outputs": [],
   "source": []
  }
 ],
 "metadata": {
  "kernelspec": {
   "display_name": "Scala 2.10.4 (Spark 1.5.2)",
   "language": "scala",
   "name": "scala"
  },
  "language_info": {
   "name": "scala"
  }
 },
 "nbformat": 4,
 "nbformat_minor": 0
}
